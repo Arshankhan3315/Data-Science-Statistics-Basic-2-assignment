{
 "cells": [
  {
   "cell_type": "markdown",
   "id": "014139de-a3c2-47e2-b207-377a956900ec",
   "metadata": {},
   "source": [
    "# Statistics Basic-2"
   ]
  },
  {
   "cell_type": "markdown",
   "id": "22679119-05b1-4296-b961-b1fe3c62eddc",
   "metadata": {},
   "source": [
    "# Q1. What are the three measures of central tendency?"
   ]
  },
  {
   "cell_type": "markdown",
   "id": "2a047987-d3f9-4366-9738-aaa5c6a59db2",
   "metadata": {},
   "source": [
    "# Answer-1- The three measures of central tendency are:\n",
    "\n",
    "# Mean: The mean is the average of a set of numerical data. It is calculated by summing up all the values in a dataset and dividing by the total number of values.\n",
    "\n",
    "# Median: The median is the middle value in a dataset when it is arranged in numerical order. If the dataset has an even number of observations, the median is the average of the two middle values.\n",
    "\n",
    "# Mode: The mode is the most frequently occurring value or values in a dataset."
   ]
  },
  {
   "cell_type": "markdown",
   "id": "b5358fde-a942-4ae9-ab7a-355807e9a6d0",
   "metadata": {},
   "source": [
    "# Q2. What is the difference between the mean, median, and mode? How are they used to measure the central tendency of a dataset?"
   ]
  },
  {
   "cell_type": "markdown",
   "id": "514a5c38-c61c-4f42-b102-f75d10b66fe7",
   "metadata": {},
   "source": [
    "# Answer-2-The mean, median, and mode are measures of central tendency used to describe and summarize a dataset by providing insights into the typical or central values within the data. Here's a breakdown of their differences and how they measure central tendency:\n",
    "\n",
    "# Mean:\n",
    "The mean is calculated by summing up all the values in a dataset and dividing by the total number of values.\n",
    "It is sensitive to extreme values, also known as outliers, which can significantly influence the mean.\n",
    "It is widely used and provides a precise average of the dataset.\n",
    "Particularly useful for datasets that follow a symmetric distribution, like the normal distribution.\n",
    "# Median:\n",
    "The median is the middle value in a dataset when the data is arranged in numerical order.\n",
    "It is not affected by extreme values or outliers, making it a robust measure of central tendency.\n",
    "It's useful when dealing with skewed distributions or datasets with outliers that might distort the mean.\n",
    "For a dataset with an even number of observations, the median is the average of the two middle values.\n",
    "# Mode:\n",
    "The mode is the most frequently occurring value or values in a dataset.\n",
    "It's not influenced by outliers, but a dataset can have one mode (unimodal), two modes (bimodal), or more (multimodal).\n",
    "It's useful for categorical or discrete data where finding an average may not be meaningful.\n",
    "The mode is easy to identify and interpret, providing insights into the most prevalent values."
   ]
  },
  {
   "cell_type": "markdown",
   "id": "bf2a2ca7-cf10-4e89-a928-afe55d7a173f",
   "metadata": {},
   "source": [
    "# Q3. Measure the three measures of central tendency for the given height data:\n",
    "[178,177,176,177,178.2,178,175,179,180,175,178.9,176.2,177,172.5,178,176.5]"
   ]
  },
  {
   "cell_type": "markdown",
   "id": "164dde04-c588-46de-aab1-4ef3e34d1423",
   "metadata": {},
   "source": [
    "# Answer-3- mean-"
   ]
  },
  {
   "cell_type": "code",
   "execution_count": 6,
   "id": "95bacff5-0021-42b5-b032-106cc94b6467",
   "metadata": {},
   "outputs": [],
   "source": [
    "height=[178,177,176,177,178.2,178,175,179,180,175,178.9,176.2,177,172.5,178,176.5]"
   ]
  },
  {
   "cell_type": "code",
   "execution_count": 7,
   "id": "4b69383a-b3f6-4a4f-9fef-69af76047d4d",
   "metadata": {},
   "outputs": [],
   "source": [
    "import numpy as np"
   ]
  },
  {
   "cell_type": "code",
   "execution_count": 8,
   "id": "66ec4270-e113-46df-8cd8-d49ac26fd30b",
   "metadata": {},
   "outputs": [
    {
     "data": {
      "text/plain": [
       "177.01875"
      ]
     },
     "execution_count": 8,
     "metadata": {},
     "output_type": "execute_result"
    }
   ],
   "source": [
    "np.mean(height)"
   ]
  },
  {
   "cell_type": "markdown",
   "id": "5b24513c-2df4-4dd2-a6f3-8db43b052233",
   "metadata": {},
   "source": [
    "# median"
   ]
  },
  {
   "cell_type": "code",
   "execution_count": 9,
   "id": "39ae8c50-218d-485e-9fa6-0a190d8c0087",
   "metadata": {},
   "outputs": [
    {
     "data": {
      "text/plain": [
       "177.0"
      ]
     },
     "execution_count": 9,
     "metadata": {},
     "output_type": "execute_result"
    }
   ],
   "source": [
    "np.median(height)"
   ]
  },
  {
   "cell_type": "markdown",
   "id": "05dc47e1-675f-490a-9e06-7cbc1626d8f2",
   "metadata": {},
   "source": [
    "# mode"
   ]
  },
  {
   "cell_type": "code",
   "execution_count": 10,
   "id": "48be1f7f-7201-47bc-8596-023f2d6e91c0",
   "metadata": {},
   "outputs": [],
   "source": [
    "from scipy import stats"
   ]
  },
  {
   "cell_type": "code",
   "execution_count": 11,
   "id": "7dc83fcf-ac90-49c5-a29f-c66539660ff7",
   "metadata": {},
   "outputs": [
    {
     "name": "stderr",
     "output_type": "stream",
     "text": [
      "/tmp/ipykernel_116/1690947930.py:1: FutureWarning: Unlike other reduction functions (e.g. `skew`, `kurtosis`), the default behavior of `mode` typically preserves the axis it acts along. In SciPy 1.11.0, this behavior will change: the default value of `keepdims` will become False, the `axis` over which the statistic is taken will be eliminated, and the value None will no longer be accepted. Set `keepdims` to True or False to avoid this warning.\n",
      "  stats.mode(height)\n"
     ]
    },
    {
     "data": {
      "text/plain": [
       "ModeResult(mode=array([177.]), count=array([3]))"
      ]
     },
     "execution_count": 11,
     "metadata": {},
     "output_type": "execute_result"
    }
   ],
   "source": [
    "stats.mode(height)"
   ]
  },
  {
   "cell_type": "markdown",
   "id": "88d421ca-fa74-49a3-a550-01d32f6cc3ce",
   "metadata": {},
   "source": [
    "# Q4. Find the standard deviation for the given data:\n",
    "[178,177,176,177,178.2,178,175,179,180,175,178.9,176.2,177,172.5,178,176.5]"
   ]
  },
  {
   "cell_type": "code",
   "execution_count": 12,
   "id": "91e2679f-e5ec-4f60-81ec-41766789af10",
   "metadata": {},
   "outputs": [
    {
     "data": {
      "text/plain": [
       "1.7885814036548633"
      ]
     },
     "execution_count": 12,
     "metadata": {},
     "output_type": "execute_result"
    }
   ],
   "source": [
    "np.std(height)"
   ]
  },
  {
   "cell_type": "markdown",
   "id": "43435ed4-eda4-4c14-a7a5-5c25d88582e5",
   "metadata": {},
   "source": [
    "# Q5. How are measures of dispersion such as range, variance, and standard deviation used to describe the spread of a dataset? Provide an example."
   ]
  },
  {
   "cell_type": "markdown",
   "id": "61aa2801-ca51-4c3e-b54f-64cf6b473878",
   "metadata": {},
   "source": [
    "# Answer-5-Measures of dispersion, including range, variance, and standard deviation, are essential in describing the spread or variability of a dataset. They provide valuable insights into how the data points are distributed around the central tendency (mean, median, mode). "
   ]
  },
  {
   "cell_type": "code",
   "execution_count": 16,
   "id": "b89d663e-a18c-48b4-b603-76c0487b5447",
   "metadata": {},
   "outputs": [],
   "source": [
    "# range"
   ]
  },
  {
   "cell_type": "code",
   "execution_count": 13,
   "id": "1b965025-cf98-46bc-ad8f-7114cb4de89d",
   "metadata": {},
   "outputs": [],
   "source": [
    "data=np.arange(20,400,4)"
   ]
  },
  {
   "cell_type": "code",
   "execution_count": 14,
   "id": "9c59c9f0-817e-4efc-b169-c9277a7b6552",
   "metadata": {},
   "outputs": [
    {
     "data": {
      "text/plain": [
       "array([ 20,  24,  28,  32,  36,  40,  44,  48,  52,  56,  60,  64,  68,\n",
       "        72,  76,  80,  84,  88,  92,  96, 100, 104, 108, 112, 116, 120,\n",
       "       124, 128, 132, 136, 140, 144, 148, 152, 156, 160, 164, 168, 172,\n",
       "       176, 180, 184, 188, 192, 196, 200, 204, 208, 212, 216, 220, 224,\n",
       "       228, 232, 236, 240, 244, 248, 252, 256, 260, 264, 268, 272, 276,\n",
       "       280, 284, 288, 292, 296, 300, 304, 308, 312, 316, 320, 324, 328,\n",
       "       332, 336, 340, 344, 348, 352, 356, 360, 364, 368, 372, 376, 380,\n",
       "       384, 388, 392, 396])"
      ]
     },
     "execution_count": 14,
     "metadata": {},
     "output_type": "execute_result"
    }
   ],
   "source": [
    "data"
   ]
  },
  {
   "cell_type": "code",
   "execution_count": 17,
   "id": "c000195e-00a3-41f3-a27b-af3ffb934218",
   "metadata": {},
   "outputs": [
    {
     "data": {
      "text/plain": [
       "3.199023437500001"
      ]
     },
     "execution_count": 17,
     "metadata": {},
     "output_type": "execute_result"
    }
   ],
   "source": [
    "np.var(height)"
   ]
  },
  {
   "cell_type": "code",
   "execution_count": 18,
   "id": "24fefe4d-8df0-4a58-b33b-a697960456be",
   "metadata": {},
   "outputs": [],
   "source": [
    "# Standard Deviation:"
   ]
  },
  {
   "cell_type": "code",
   "execution_count": 19,
   "id": "00ee8614-d4c5-43f3-b6dd-2a19b32b9c4f",
   "metadata": {},
   "outputs": [
    {
     "data": {
      "text/plain": [
       "1.7885814036548633"
      ]
     },
     "execution_count": 19,
     "metadata": {},
     "output_type": "execute_result"
    }
   ],
   "source": [
    "np.std(height)"
   ]
  },
  {
   "cell_type": "markdown",
   "id": "c369a541-f74a-42bd-b243-a599482a8607",
   "metadata": {},
   "source": [
    "# Q6. What is a Venn diagram?"
   ]
  },
  {
   "cell_type": "markdown",
   "id": "52be3949-7983-4f47-a787-be426246d8f7",
   "metadata": {},
   "source": [
    "# Answer-6-A Venn diagram is a graphical representation used to illustrate the relationship between sets. It consists of overlapping circles (or other shapes) where each circle represents a set, and the overlapping regions represent the elements that are common to those sets.\n",
    "\n",
    "# In a standard two-set Venn diagram, two circles overlap, and the overlapping region displays the elements that belong to both sets, highlighting their intersection. The non-overlapping parts of each circle represent the elements unique to each set"
   ]
  },
  {
   "cell_type": "markdown",
   "id": "4167560e-6f56-4294-8cc9-4c3d092e6520",
   "metadata": {},
   "source": [
    "# Q7. For the two given sets A = (2,3,4,5,6,7) & B = (0,2,6,8,10). Find:\n",
    "(i) A B\n",
    "(ii) A ⋃ B"
   ]
  },
  {
   "cell_type": "markdown",
   "id": "e9333741-4758-49b5-8de1-b59205735c35",
   "metadata": {},
   "source": [
    "# Answer-7-"
   ]
  },
  {
   "cell_type": "code",
   "execution_count": 20,
   "id": "3436f448-afb2-4738-a91e-4ef63381a0de",
   "metadata": {},
   "outputs": [],
   "source": [
    "A = {2, 3, 4, 5, 6, 7}"
   ]
  },
  {
   "cell_type": "code",
   "execution_count": 21,
   "id": "5c359437-54f1-485b-b194-fb6a33df14a3",
   "metadata": {},
   "outputs": [],
   "source": [
    "B = {0, 2, 6, 8, 10}"
   ]
  },
  {
   "cell_type": "code",
   "execution_count": 22,
   "id": "8a6d45bf-bdb0-403a-87dd-bac85374bdd9",
   "metadata": {},
   "outputs": [],
   "source": [
    "# (i) Intersection of A and B: A ∩ B\n",
    "intersection_AB = A.intersection(B)"
   ]
  },
  {
   "cell_type": "code",
   "execution_count": 23,
   "id": "d6d168ab-63a1-4f36-a778-549b1f328fd3",
   "metadata": {},
   "outputs": [
    {
     "data": {
      "text/plain": [
       "{2, 6}"
      ]
     },
     "execution_count": 23,
     "metadata": {},
     "output_type": "execute_result"
    }
   ],
   "source": [
    "intersection_AB"
   ]
  },
  {
   "cell_type": "code",
   "execution_count": 24,
   "id": "401fc266-4f1c-4952-94f5-0598dc4e4c79",
   "metadata": {},
   "outputs": [],
   "source": [
    "union_AB = A.union(B)"
   ]
  },
  {
   "cell_type": "code",
   "execution_count": 25,
   "id": "3ace8de0-6b2a-41f0-8ddb-94a2cde9c9fc",
   "metadata": {},
   "outputs": [
    {
     "data": {
      "text/plain": [
       "{0, 2, 3, 4, 5, 6, 7, 8, 10}"
      ]
     },
     "execution_count": 25,
     "metadata": {},
     "output_type": "execute_result"
    }
   ],
   "source": [
    "union_AB"
   ]
  },
  {
   "cell_type": "markdown",
   "id": "c6e0dda8-d19f-479c-b340-7a205987de71",
   "metadata": {},
   "source": [
    "# Q8. What do you understand about skewness in data?"
   ]
  },
  {
   "cell_type": "markdown",
   "id": "e1e5b5f3-a02e-4409-8cda-9ea055f4db69",
   "metadata": {},
   "source": [
    "# Answer-8-Skewness is a measure of the asymmetry or lack of symmetry in the distribution of a dataset. It provides information about the shape of the distribution and the direction in which the data is stretched or biased.\n",
    "\n",
    "# In a perfectly symmetrical distribution, the mean, median, and mode are all equal, and the skewness is zero. However, in real-world datasets, distributions often deviate from perfect symmetry."
   ]
  },
  {
   "cell_type": "markdown",
   "id": "e56e9b4b-cea4-4066-b8ca-f6df250161a9",
   "metadata": {},
   "source": [
    "# Q9. If a data is right skewed then what will be the position of median with respect to mean?"
   ]
  },
  {
   "cell_type": "markdown",
   "id": "6676eeb7-d756-4fde-9e44-7d4474dc6f6d",
   "metadata": {},
   "source": [
    "# Answer-9-In a right-skewed distribution, the right tail of the distribution is longer or stretched, indicating that there are relatively few extreme high values (outliers) that pull the mean to the right. The majority of the data points are concentrated on the left side of the distribution"
   ]
  },
  {
   "cell_type": "markdown",
   "id": "a289a34e-cded-4aae-b8ee-010b4507cc3e",
   "metadata": {},
   "source": [
    "# Q10. Explain the difference between covariance and correlation. How are these measures used in statistical analysis?"
   ]
  },
  {
   "cell_type": "markdown",
   "id": "b165444f-a699-4889-b81d-e875af33ffc5",
   "metadata": {},
   "source": [
    "# Answer-10-Covariance and correlation are both measures used to quantify the relationship between two variables in statistics. They help assess the strength and direction of the linear association between variables. However, they differ in scale and interpretation."
   ]
  },
  {
   "cell_type": "code",
   "execution_count": 30,
   "id": "3d4629c5-d96d-43b8-b24e-fe6015a81c96",
   "metadata": {},
   "outputs": [],
   "source": [
    "# covariance"
   ]
  },
  {
   "cell_type": "code",
   "execution_count": 31,
   "id": "94bb90aa-1f59-4ec9-b476-764d97b3f040",
   "metadata": {},
   "outputs": [],
   "source": [
    "X = np.array([1, 2, 3, 4, 5])\n",
    "Y = np.array([5, 4, 3, 2, 1])"
   ]
  },
  {
   "cell_type": "code",
   "execution_count": 32,
   "id": "3c8ce3cd-4c7f-4edf-9d48-41dff8d5efe8",
   "metadata": {},
   "outputs": [],
   "source": [
    "covariance = np.cov(X, Y)[0, 1]"
   ]
  },
  {
   "cell_type": "code",
   "execution_count": 33,
   "id": "4e8d994f-011c-4bb5-90d3-2556ec258efa",
   "metadata": {},
   "outputs": [
    {
     "data": {
      "text/plain": [
       "-2.5"
      ]
     },
     "execution_count": 33,
     "metadata": {},
     "output_type": "execute_result"
    }
   ],
   "source": [
    "covariance"
   ]
  },
  {
   "cell_type": "code",
   "execution_count": 34,
   "id": "ce20642a-6842-4073-b533-e23368cc647e",
   "metadata": {},
   "outputs": [],
   "source": [
    "# correlation"
   ]
  },
  {
   "cell_type": "code",
   "execution_count": 35,
   "id": "19925568-b9c2-428a-984f-ec60b6bccd39",
   "metadata": {},
   "outputs": [],
   "source": [
    "correlation = np.corrcoef(X, Y)[0, 1]"
   ]
  },
  {
   "cell_type": "code",
   "execution_count": 36,
   "id": "c713ff2b-86f8-429f-b5b6-23d208d9ec61",
   "metadata": {},
   "outputs": [
    {
     "data": {
      "text/plain": [
       "-0.9999999999999999"
      ]
     },
     "execution_count": 36,
     "metadata": {},
     "output_type": "execute_result"
    }
   ],
   "source": [
    "correlation"
   ]
  },
  {
   "cell_type": "markdown",
   "id": "bf362ef3-1a95-42d0-9c77-06514e1f63ba",
   "metadata": {},
   "source": [
    "# Q11. What is the formula for calculating the sample mean? Provide an example calculation for a dataset."
   ]
  },
  {
   "cell_type": "markdown",
   "id": "897435b7-0217-4506-87a2-fb160949f80b",
   "metadata": {},
   "source": [
    "# Answer-11-"
   ]
  },
  {
   "cell_type": "code",
   "execution_count": 37,
   "id": "6e230efc-be68-47cd-8bec-bad3f337fd72",
   "metadata": {},
   "outputs": [],
   "source": [
    "data = [85, 90, 78, 92, 88]"
   ]
  },
  {
   "cell_type": "code",
   "execution_count": 38,
   "id": "d37783ef-a0bf-49a1-9c90-135e880a0c1c",
   "metadata": {},
   "outputs": [],
   "source": [
    "sample_mean = sum(data) / len(data)"
   ]
  },
  {
   "cell_type": "code",
   "execution_count": 39,
   "id": "b23bf8af-e90b-4190-8c9f-685a2240e729",
   "metadata": {},
   "outputs": [
    {
     "data": {
      "text/plain": [
       "86.6"
      ]
     },
     "execution_count": 39,
     "metadata": {},
     "output_type": "execute_result"
    }
   ],
   "source": [
    "sample_mean"
   ]
  },
  {
   "cell_type": "markdown",
   "id": "ff197245-38e7-4785-aa82-4087cfe3735d",
   "metadata": {},
   "source": [
    "# Q12. For a normal distribution data what is the relationship between its measure of central tendency?"
   ]
  },
  {
   "cell_type": "markdown",
   "id": "bdd63052-0866-4ccb-9074-1222b75f2fce",
   "metadata": {},
   "source": [
    "# Answer-12-In a normal distribution, the mean, median, and mode are all equal and located at the center of the distribution due to the symmetric nature of the normal distribution."
   ]
  },
  {
   "cell_type": "code",
   "execution_count": 40,
   "id": "51f1d24b-fb57-405c-b38b-38214bfbd6c5",
   "metadata": {},
   "outputs": [],
   "source": [
    "from scipy.stats import mode"
   ]
  },
  {
   "cell_type": "code",
   "execution_count": 41,
   "id": "dc37b3e1-315d-4827-a942-9d2d543b2261",
   "metadata": {},
   "outputs": [],
   "source": [
    "np.random.seed(0)"
   ]
  },
  {
   "cell_type": "code",
   "execution_count": 42,
   "id": "86767e31-04f0-4dcd-b92a-c5b76c8363f7",
   "metadata": {},
   "outputs": [],
   "source": [
    "data_normal = np.random.normal(loc=10, scale=2, size=1000) "
   ]
  },
  {
   "cell_type": "code",
   "execution_count": 43,
   "id": "4847480d-7f73-4397-b8d4-06ecfd9c83c0",
   "metadata": {},
   "outputs": [
    {
     "name": "stderr",
     "output_type": "stream",
     "text": [
      "/tmp/ipykernel_116/173619512.py:3: FutureWarning: Unlike other reduction functions (e.g. `skew`, `kurtosis`), the default behavior of `mode` typically preserves the axis it acts along. In SciPy 1.11.0, this behavior will change: the default value of `keepdims` will become False, the `axis` over which the statistic is taken will be eliminated, and the value None will no longer be accepted. Set `keepdims` to True or False to avoid this warning.\n",
      "  mode_value = mode(data_normal)[0][0]\n"
     ]
    }
   ],
   "source": [
    "mean_value = np.mean(data_normal)\n",
    "median_value = np.median(data_normal)\n",
    "mode_value = mode(data_normal)[0][0]"
   ]
  },
  {
   "cell_type": "code",
   "execution_count": 44,
   "id": "6b9d4180-91e6-4da3-8e75-3218de5d4ce7",
   "metadata": {},
   "outputs": [
    {
     "name": "stdout",
     "output_type": "stream",
     "text": [
      "Mean: 9.909486585019609\n",
      "Median: 9.883943930400743\n",
      "Mode: 3.9077138904001467\n"
     ]
    }
   ],
   "source": [
    "print(\"Mean:\", mean_value)\n",
    "print(\"Median:\", median_value)\n",
    "print(\"Mode:\", mode_value)"
   ]
  },
  {
   "cell_type": "markdown",
   "id": "d9a54b9b-2987-4cb6-995a-041cc74bfc58",
   "metadata": {},
   "source": [
    "# Q13. How is covariance different from correlation?"
   ]
  },
  {
   "cell_type": "markdown",
   "id": "f3bccc4d-1005-4b4a-ac46-46282dbbb9ab",
   "metadata": {
    "tags": []
   },
   "source": [
    "# Answer-13Covariance and correlation are both measures used to describe the relationship between two variables in a dataset, but they have important differences in terms of scale, interpretation, and usage:\n",
    "\n",
    "# Scale and Units:\n",
    "# Covariance:Covariance is measured in the units of the product of the original variables. The magnitude of covariance depends on the scale of the variables being measured, making it difficult to interpret.\n",
    "# Correlation:Correlation is a dimensionless measure that ranges from -1 to 1, making it easier to interpret and compare. The correlation coefficient standardizes the relationship, making it independent of the scale of the variables.\n",
    "# Interpretation:\n",
    "# Covariance:Covariance indicates the direction of the linear relationship between variables. A positive covariance suggests a positive linear relationship, and a negative covariance suggests a negative linear relationship.\n",
    "# Correlation:Correlation measures both the strength and direction of the linear relationship between variables. A correlation of 1 indicates a perfect positive linear relationship, -1 indicates a perfect negative linear relationship, and 0 indicates no linear relationship.\n",
    "# Magnitude of Relationship:\n",
    "# Covariance:Covariance does not provide a clear measure of the strength of the relationship between variables.\n",
    "# Correlation:Correlation provides a clear indication of the strength of the linear relationship.The closer the correlation coefficient is to 1 or -1, the stronger the linear relationship.\n",
    "# Standardization:\n",
    "# Covariance:Covariance is not standardized, making it difficult to compare relationships between different pairs of variables.\n",
    "# Correlation:Correlation is standardized, allowing for easy comparison of relationships between different pairs of variables.\n",
    "# Range:\n",
    "# Covariance:Covariance can take any real value, including negative and positive values.\n",
    "# Correlation:Correlation always falls in the range [-1, 1]."
   ]
  },
  {
   "cell_type": "markdown",
   "id": "5c21d24d-ce3a-40fe-b5f7-52ec20c5ef6e",
   "metadata": {},
   "source": [
    "# Q14. How do outliers affect measures of central tendency and dispersion? Provide an example."
   ]
  },
  {
   "cell_type": "markdown",
   "id": "d009b4b8-7f22-4352-827f-d049b81a6bf9",
   "metadata": {},
   "source": [
    "# Answer-14-Outliers are data points that significantly differ from other observations in a dataset. They can have a substantial impact on measures of central tendency (e.g., mean, median, mode) and measures of dispersion (e.g., range, variance, standard deviation). Let's discuss their effects and provide an example to illustrate.\n",
    "\n",
    "# Effects on Measures of Central Tendency:\n",
    "\n",
    "# Mean:Outliers can distort the mean by pulling it in the direction of the outliers. If there are outliers on the higher end, the mean tends to be higher than it would be without the outliers.\n",
    "# Median:The median is less affected by outliers compared to the mean. Outliers do not influence the median as it is solely based on the order of data.\n",
    "# Mode:Outliers may create a new mode if they are significantly different from the rest of the data.\n",
    "# Effects on Measures of Dispersion:\n",
    "# Range:Outliers can significantly affect the range by increasing its magnitude.\n",
    "# Variance and Standard Deviation:Outliers increase the variance and standard deviation by spreading out the data points. The increased dispersion reflects the impact of the outliers on the spread of the dataset.\n",
    "# Example:Consider a dataset of exam scores: [85, 90, 78, 92, 88, 150]. In this dataset, 150 is an outlier.\n",
    "\n",
    "# Effects on Measures of Central Tendency:\n",
    "\n",
    "Mean: With the outlier (150), the mean is higher.\n",
    "Median: The median remains unaffected by the outlier.\n",
    "Mode: A new mode (150) is introduced due to the outlier.\n",
    "Effects on Measures of Dispersion:\n",
    "\n",
    "# Range: The range increases significantly due to the outlier. Variance and Standard Deviation: Both variance and standard deviation increase due to the outlier, reflecting increased dispersion."
   ]
  },
  {
   "cell_type": "markdown",
   "id": "46f10bc8-5208-44bf-869c-0e04b8b72774",
   "metadata": {},
   "source": [
    "# Assignment Completed"
   ]
  }
 ],
 "metadata": {
  "kernelspec": {
   "display_name": "Python 3 (ipykernel)",
   "language": "python",
   "name": "python3"
  },
  "language_info": {
   "codemirror_mode": {
    "name": "ipython",
    "version": 3
   },
   "file_extension": ".py",
   "mimetype": "text/x-python",
   "name": "python",
   "nbconvert_exporter": "python",
   "pygments_lexer": "ipython3",
   "version": "3.10.8"
  }
 },
 "nbformat": 4,
 "nbformat_minor": 5
}
